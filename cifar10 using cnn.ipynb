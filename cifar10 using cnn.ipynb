{
 "cells": [
  {
   "cell_type": "code",
   "execution_count": 23,
   "metadata": {},
   "outputs": [],
   "source": [
    "import pickle\n",
    "import numpy as np\n",
    "import matplotlib.pyplot as plt\n",
    "from keras.datasets import cifar10\n",
    "import tensorflow as tf\n",
    "from tensorflow.keras.models import Sequential\n",
    "from keras.preprocessing.image import ImageDataGenerator\n",
    "from keras.utils import np_utils\n",
    "from keras import regularizers\n",
    "from tensorflow.keras.layers import Dense, Dropout, Activation, Flatten,Conv2D, MaxPooling2D,BatchNormalization\n",
    "import pickle\n",
    "import keras\n"
   ]
  },
  {
   "cell_type": "code",
   "execution_count": 24,
   "metadata": {},
   "outputs": [],
   "source": [
    "(x_train,y_train),(x_test,y_test) = cifar10.load_data()"
   ]
  },
  {
   "cell_type": "code",
   "execution_count": 4,
   "metadata": {},
   "outputs": [
    {
     "name": "stdout",
     "output_type": "stream",
     "text": [
      "(50000, 32, 32, 3)\n"
     ]
    }
   ],
   "source": [
    "print(x_train.shape) # shape of cifar10 images"
   ]
  },
  {
   "cell_type": "code",
   "execution_count": 5,
   "metadata": {},
   "outputs": [
    {
     "name": "stdout",
     "output_type": "stream",
     "text": [
      "(50000, 1)\n"
     ]
    }
   ],
   "source": [
    "print(y_train.shape) #labels"
   ]
  },
  {
   "cell_type": "code",
   "execution_count": 6,
   "metadata": {},
   "outputs": [
    {
     "name": "stdout",
     "output_type": "stream",
     "text": [
      "(10000, 32, 32, 3)\n"
     ]
    }
   ],
   "source": [
    "print(x_test.shape)"
   ]
  },
  {
   "cell_type": "code",
   "execution_count": 25,
   "metadata": {},
   "outputs": [],
   "source": [
    "x_train = x_train.astype('float32')\n",
    "x_test = x_test.astype('float32')\n",
    "\n",
    "#makes dataset a type of gaussian distribution\n",
    "mean = np.mean(x_train,axis=(0,1,2,3)) \n",
    "std = np.std(x_train,axis=(0,1,2,3))\n",
    "x_train = (x_train-mean)/(std+1e-7)\n",
    "x_test = (x_test-mean)/(std+1e-7)\n",
    "\n"
   ]
  },
  {
   "cell_type": "code",
   "execution_count": 29,
   "metadata": {},
   "outputs": [
    {
     "name": "stdout",
     "output_type": "stream",
     "text": [
      "Model: \"sequential_10\"\n",
      "_________________________________________________________________\n",
      "Layer (type)                 Output Shape              Param #   \n",
      "=================================================================\n",
      "conv2d_27 (Conv2D)           (None, 32, 32, 64)        1792      \n",
      "_________________________________________________________________\n",
      "activation_45 (Activation)   (None, 32, 32, 64)        0         \n",
      "_________________________________________________________________\n",
      "batch_normalization_12 (Batc (None, 32, 32, 64)        256       \n",
      "_________________________________________________________________\n",
      "max_pooling2d_27 (MaxPooling (None, 16, 16, 64)        0         \n",
      "_________________________________________________________________\n",
      "dropout_16 (Dropout)         (None, 16, 16, 64)        0         \n",
      "_________________________________________________________________\n",
      "conv2d_28 (Conv2D)           (None, 16, 16, 64)        36928     \n",
      "_________________________________________________________________\n",
      "activation_46 (Activation)   (None, 16, 16, 64)        0         \n",
      "_________________________________________________________________\n",
      "batch_normalization_13 (Batc (None, 16, 16, 64)        256       \n",
      "_________________________________________________________________\n",
      "max_pooling2d_28 (MaxPooling (None, 8, 8, 64)          0         \n",
      "_________________________________________________________________\n",
      "dropout_17 (Dropout)         (None, 8, 8, 64)          0         \n",
      "_________________________________________________________________\n",
      "conv2d_29 (Conv2D)           (None, 8, 8, 64)          36928     \n",
      "_________________________________________________________________\n",
      "activation_47 (Activation)   (None, 8, 8, 64)          0         \n",
      "_________________________________________________________________\n",
      "batch_normalization_14 (Batc (None, 8, 8, 64)          256       \n",
      "_________________________________________________________________\n",
      "max_pooling2d_29 (MaxPooling (None, 4, 4, 64)          0         \n",
      "_________________________________________________________________\n",
      "dropout_18 (Dropout)         (None, 4, 4, 64)          0         \n",
      "_________________________________________________________________\n",
      "flatten_9 (Flatten)          (None, 1024)              0         \n",
      "_________________________________________________________________\n",
      "dense_18 (Dense)             (None, 64)                65600     \n",
      "_________________________________________________________________\n",
      "activation_48 (Activation)   (None, 64)                0         \n",
      "_________________________________________________________________\n",
      "dense_19 (Dense)             (None, 10)                650       \n",
      "_________________________________________________________________\n",
      "activation_49 (Activation)   (None, 10)                0         \n",
      "=================================================================\n",
      "Total params: 142,666\n",
      "Trainable params: 142,282\n",
      "Non-trainable params: 384\n",
      "_________________________________________________________________\n",
      "Epoch 1/10\n",
      "781/781 [==============================] - 682s 874ms/step - loss: 1.6283 - acc: 0.4169 - val_loss: 1.3202 - val_acc: 0.5324\n",
      "Epoch 2/10\n",
      "781/781 [==============================] - 664s 850ms/step - loss: 1.3150 - acc: 0.5367 - val_loss: 1.2148 - val_acc: 0.5759\n",
      "Epoch 3/10\n",
      "781/781 [==============================] - 1657s 2s/step - loss: 1.1861 - acc: 0.5821 - val_loss: 1.0654 - val_acc: 0.6320\n",
      "Epoch 4/10\n",
      "781/781 [==============================] - 685s 877ms/step - loss: 1.1144 - acc: 0.6121 - val_loss: 1.0413 - val_acc: 0.6458\n",
      "Epoch 5/10\n",
      "781/781 [==============================] - 666s 853ms/step - loss: 1.0584 - acc: 0.6319 - val_loss: 1.0948 - val_acc: 0.6392\n",
      "Epoch 6/10\n",
      "781/781 [==============================] - 665s 852ms/step - loss: 1.0157 - acc: 0.6519 - val_loss: 0.8789 - val_acc: 0.7010\n",
      "Epoch 7/10\n",
      "781/781 [==============================] - 670s 857ms/step - loss: 0.9780 - acc: 0.6655 - val_loss: 0.8639 - val_acc: 0.7112\n",
      "Epoch 8/10\n",
      "781/781 [==============================] - 778s 996ms/step - loss: 0.9558 - acc: 0.6748 - val_loss: 0.8642 - val_acc: 0.7142\n",
      "Epoch 9/10\n",
      "781/781 [==============================] - 824s 1s/step - loss: 0.9393 - acc: 0.6804 - val_loss: 0.8639 - val_acc: 0.7100\n",
      "Epoch 10/10\n",
      "781/781 [==============================] - 817s 1s/step - loss: 0.9192 - acc: 0.6883 - val_loss: 0.8259 - val_acc: 0.7259\n"
     ]
    }
   ],
   "source": [
    "model = Sequential() #makes layers  sequential\n",
    "model.add(Conv2D(64,(3,3), input_shape=x_train.shape[1:],padding='same',kernel_regularizer = regularizers.l2(1e-4)))\n",
    "model.add(Activation(\"relu\"))\n",
    "model.add(BatchNormalization())\n",
    "model.add(MaxPooling2D(pool_size=(2,2))) #reduces dimensions of convolution output by taking max element from each cell\n",
    "model.add(Dropout(0.2)) # randomly turnsoff some percent of nodes to reduce overfitting\n",
    "\n",
    "model.add(Conv2D(64,(3,3),input_shape = x_train.shape[1:],padding='same',kernel_regularizer = regularizers.l2(1e-4)))\n",
    "model.add(Activation(\"relu\"))\n",
    "model.add(BatchNormalization())\n",
    "model.add(MaxPooling2D(pool_size=(2,2)))\n",
    "model.add(Dropout(0.3))\n",
    "\n",
    "model.add(Conv2D(64,(3,3),input_shape = x_train.shape[1:],padding='same',kernel_regularizer = regularizers.l2(1e-4)))\n",
    "model.add(Activation(\"relu\"))\n",
    "model.add(BatchNormalization())\n",
    "model.add(MaxPooling2D(pool_size=(2,2)))\n",
    "model.add(Dropout(0.3))\n",
    "\n",
    "model.add(Flatten()) #makes data into single column\n",
    "model.add(Dense(64))\n",
    "model.add(Activation(\"relu\"))\n",
    "\n",
    "model.add(Dense(10))\n",
    "model.add(Activation('softmax'))\n",
    "\n",
    "model.summary()\n",
    "\n",
    "#data augmentation- flips images back and forth and learns from it\n",
    "datagen = ImageDataGenerator(\n",
    "    featurewise_center=False,\n",
    "    featurewise_std_normalization=False,\n",
    "    rotation_range=20,\n",
    "    width_shift_range=0.1,\n",
    "    height_shift_range=0.1,\n",
    "    horizontal_flip=True)\n",
    "\n",
    "datagen.fit(x_train)\n",
    "\n",
    "model.compile(loss=\"sparse_categorical_crossentropy\",optimizer = \"adam\",metrics=[\"accuracy\"])\n",
    "\n",
    "model.fit_generator(datagen.flow(x_train,y_train,batch_size=64),steps_per_epoch=x_train.shape[0]//64,verbose=1,validation_data=(x_test,y_test),epochs=10)\n",
    "model.save_weights('cifar10_adam_regul.h5')\n",
    "\n"
   ]
  },
  {
   "cell_type": "code",
   "execution_count": 30,
   "metadata": {},
   "outputs": [
    {
     "name": "stdout",
     "output_type": "stream",
     "text": [
      "10000/10000 [==============================] - 11s 1ms/sample - loss: 0.8261 - acc: 0.7259\n",
      "0.8260829696655273 0.7259\n"
     ]
    }
   ],
   "source": [
    "val_loss,val_acc = model.evaluate(x_test,y_test)\n",
    "print(val_loss,val_acc)"
   ]
  },
  {
   "cell_type": "code",
   "execution_count": null,
   "metadata": {},
   "outputs": [],
   "source": [
    "#References\n",
    "#1. deep learning by sentdex on youtube\n"
   ]
  }
 ],
 "metadata": {
  "kernelspec": {
   "display_name": "Python 3",
   "language": "python",
   "name": "python3"
  },
  "language_info": {
   "codemirror_mode": {
    "name": "ipython",
    "version": 3
   },
   "file_extension": ".py",
   "mimetype": "text/x-python",
   "name": "python",
   "nbconvert_exporter": "python",
   "pygments_lexer": "ipython3",
   "version": "3.7.3"
  }
 },
 "nbformat": 4,
 "nbformat_minor": 2
}
